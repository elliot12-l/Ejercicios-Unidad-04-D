{
  "nbformat": 4,
  "nbformat_minor": 0,
  "metadata": {
    "colab": {
      "provenance": [],
      "include_colab_link": true
    },
    "kernelspec": {
      "name": "python3",
      "display_name": "Python 3"
    },
    "language_info": {
      "name": "python"
    }
  },
  "cells": [
    {
      "cell_type": "markdown",
      "metadata": {
        "id": "view-in-github",
        "colab_type": "text"
      },
      "source": [
        "<a href=\"https://colab.research.google.com/github/elliot12-l/Ejercicios-Unidad-04-D/blob/main/Ejercicios_Unidad_04_D.ipynb\" target=\"_parent\"><img src=\"https://colab.research.google.com/assets/colab-badge.svg\" alt=\"Open In Colab\"/></a>"
      ]
    },
    {
      "cell_type": "code",
      "source": [
        "##EJERICIO 1.A\n",
        "import numpy as np\n",
        "\n",
        "def jacobi_method(A, b, x0, iterations):\n",
        "    D = np.diag(np.diag(A))\n",
        "    R = A - D\n",
        "    D_inv = np.linalg.inv(D)\n",
        "\n",
        "    x = x0\n",
        "    for i in range(iterations):\n",
        "        x = np.dot(D_inv, b - np.dot(R, x))\n",
        "        print(f\"Iteración {i + 1}: {x}\")\n",
        "\n",
        "    return x\n",
        "\n",
        "# Datos del sistema a\n",
        "A_a = np.array([[4,1,1,0,1],\n",
        "                [-1,-3,1,1,0],\n",
        "                [2,1,5,-1,-1],\n",
        "                [-1,-1,-1,4,0],\n",
        "                [0,2,-1,1,4]], dtype=np.float32)\n",
        "b_a = np.array([6,6,6,6,6], dtype=np.float32)\n",
        "\n",
        "# Vector inicial x(0) = 0\n",
        "x0_a = np.zeros(len(b_a), dtype=np.float32)\n",
        "\n",
        "# Número de iteraciones\n",
        "iterations = 2\n",
        "\n",
        "# Resolver el sistema a con el método de Jacobi\n",
        "print(\"Sistema a:\")\n",
        "jacobi_method(A_a, b_a, x0_a, iterations)\n"
      ],
      "metadata": {
        "colab": {
          "base_uri": "https://localhost:8080/"
        },
        "id": "nD1nM__iTGgI",
        "outputId": "84905446-087e-4c45-8000-c947a619c3b7"
      },
      "execution_count": null,
      "outputs": [
        {
          "output_type": "stream",
          "name": "stdout",
          "text": [
            "Sistema a:\n",
            "Iteración 1: [ 1.5 -2.   1.2  1.5  1.5]\n",
            "Iteración 2: [ 1.325     -1.6000001  1.6        1.675      2.425    ]\n"
          ]
        },
        {
          "output_type": "execute_result",
          "data": {
            "text/plain": [
              "array([ 1.325    , -1.6000001,  1.6      ,  1.675    ,  2.425    ],\n",
              "      dtype=float32)"
            ]
          },
          "metadata": {},
          "execution_count": 4
        }
      ]
    },
    {
      "cell_type": "code",
      "source": [
        "## EJERCICIO 2.A\n",
        "import numpy as np\n",
        "\n",
        "def gauss_seidel_method(A, b, x0, iterations):\n",
        "    n = len(b)\n",
        "    x = x0.copy()\n",
        "\n",
        "    for k in range(iterations):\n",
        "        x_new = x.copy()\n",
        "        for i in range(n):\n",
        "            sum1 = sum(A[i][j] * x_new[j] for j in range(i))\n",
        "            sum2 = sum(A[i][j] * x[j] for j in range(i + 1, n))\n",
        "            x_new[i] = (b[i] - sum1 - sum2) / A[i][i]\n",
        "        x = x_new\n",
        "        print(f\"Iteración {k + 1}: {x}\")\n",
        "\n",
        "    return x\n",
        "\n",
        "# Datos del sistema a\n",
        "A_a = np.array([[10,-1,0],\n",
        "                [-1,10,-2],\n",
        "                [0,-2,10]], dtype=np.float32)\n",
        "b_a = np.array([9,7,6], dtype=np.float32)\n",
        "\n",
        "# Vector inicial x(0) = 0\n",
        "x0_a = np.zeros(len(b_a), dtype=np.float32)\n",
        "\n",
        "# Número de iteraciones\n",
        "iterations = 2\n",
        "\n",
        "# Resolver el sistema a con el método de Gauss-Seidel\n",
        "print(\"Sistema a:\")\n",
        "gauss_seidel_method(A_a, b_a, x0_a, iterations)\n"
      ],
      "metadata": {
        "colab": {
          "base_uri": "https://localhost:8080/"
        },
        "id": "MyuNIDniVUgU",
        "outputId": "558ad73d-fdc3-430a-bdd7-8d4328c818e6"
      },
      "execution_count": null,
      "outputs": [
        {
          "output_type": "stream",
          "name": "stdout",
          "text": [
            "Sistema a:\n",
            "Iteración 1: [ 1.5     -2.5      1.1      1.525    2.64375]\n",
            "Iteración 2: [ 1.1890625 -1.5213542  1.8623959  1.882526   2.2556446]\n"
          ]
        },
        {
          "output_type": "execute_result",
          "data": {
            "text/plain": [
              "array([ 1.1890625, -1.5213542,  1.8623959,  1.882526 ,  2.2556446],\n",
              "      dtype=float32)"
            ]
          },
          "metadata": {},
          "execution_count": 8
        }
      ]
    },
    {
      "cell_type": "code",
      "source": [
        "import numpy as np\n",
        "\n",
        "def gauss_jacobi(A, b, x0, tol, max_iterations):\n",
        "    n = len(b)\n",
        "    x = x0.copy()\n",
        "\n",
        "    for k in range(max_iterations):\n",
        "        x_new = np.zeros_like(x)\n",
        "\n",
        "        for i in range(n):\n",
        "            sigma = sum(A[i][j] * x[j] for j in range(n) if j != i)\n",
        "            x_new[i] = (b[i] - sigma) / A[i][i]\n",
        "\n",
        "        # Comprobación de convergencia\n",
        "        if np.linalg.norm(x_new - x, ord=np.inf) < tol:\n",
        "            print(f'Convergencia alcanzada en {k+1} iteraciones.')\n",
        "            return x_new\n",
        "\n",
        "        x = x_new\n",
        "\n",
        "    print('Número máximo de iteraciones alcanzado sin convergencia.')\n",
        "    return x\n",
        "\n",
        "# Ejemplo de uso\n",
        "A = np.array([[3,-1,1],\n",
        "                [3,6,2],\n",
        "                [3,3,7]], dtype=float)\n",
        "\n",
        "b = np.array([1,0,4], dtype=float)\n",
        "x0 = np.zeros(len(b))  # Vector inicial\n",
        "tol = 1e-3  # Tolerancia\n",
        "max_iterations = 100  # Número máximo de iteraciones\n",
        "\n",
        "sol = gauss_jacobi(A, b, x0, tol, max_iterations)\n",
        "print('Solución:', sol)\n"
      ],
      "metadata": {
        "id": "tW7ajk7p6OGo",
        "outputId": "ce8858e5-40a2-4b44-c835-fe1606084c29",
        "colab": {
          "base_uri": "https://localhost:8080/"
        }
      },
      "execution_count": null,
      "outputs": [
        {
          "output_type": "stream",
          "name": "stdout",
          "text": [
            "Convergencia alcanzada en 9 iteraciones.\n",
            "Solución: [ 0.03510079 -0.23663751  0.65812732]\n"
          ]
        }
      ]
    },
    {
      "cell_type": "code",
      "source": [
        "A = np.array([\n",
        "    [4, -1, 0, 0, -1, 0, 0, 0, 0, 0, 0, 0],\n",
        "    [-1, 4, -1, 0, 0, 0, 0, 0, 0, 0, 0, 0],\n",
        "    [0, -1, 4, -1, 0, 0, 0, 0, 0, 0, 0, 0],\n",
        "    [0, 0, -1, 4, 0, -1, 0, 0, 0, 0, 0, 0],\n",
        "    [-1, 0, 0, 0, 4, 0, 0, 0, 0, 0, 0, 0],\n",
        "    [0, 0, 0, -1, 0, 4, -1, 0, 0, 0, 0, 0],\n",
        "    [0, 0, 0, 0, 0, -1, 4, 0, -1, 0, 0, 0],\n",
        "    [0, 0, 0, 0, 0, 0, 0, 4, 0, -1, 0, 0],\n",
        "    [0, 0, 0, 0, 0, 0, 0, 0, 4, -1, 0, 0],\n",
        "    [0, 0, 0, 0, 0, 0, 0, 0, -1, 4, -1, 0],\n",
        "    [0, 0, 0, 0, 0, 0, 0, 0, 0, -1, 4, -1],\n",
        "    [0, 0, 0, 0, 0, 0, 0, 0, 0, 0, -1, 4]], dtype=float)\n",
        "\n",
        "b = np.array([220, 110, 110, 110, 220, 110, 110, 110, 220, 110, 110, 220], dtype=float)\n",
        "x0 = np.zeros(len(b))  # Vector inicial\n",
        "tol = 1e-3  # Tolerancia\n",
        "max_iterations = 100  # Número máximo de iteraciones\n",
        "\n",
        "sol = gauss_jacobi(A, b, x0, tol, max_iterations)\n",
        "print('Solución:', sol)"
      ],
      "metadata": {
        "id": "LCK6T_f281Fl",
        "outputId": "b87b4a16-f0e4-4f19-8907-92b6685cb5d2",
        "colab": {
          "base_uri": "https://localhost:8080/"
        }
      },
      "execution_count": null,
      "outputs": [
        {
          "output_type": "stream",
          "name": "stdout",
          "text": [
            "Convergencia alcanzada en 16 iteraciones.\n",
            "Solución: [90.54462377 64.543075   57.62843354 55.97162738 77.63607944 56.25887671\n",
            " 59.06461716 42.49997627 69.99997627 59.9999616  59.9999616  69.99997627]\n"
          ]
        }
      ]
    },
    {
      "cell_type": "code",
      "source": [
        "def gauss_seidel(A, b, x0, tol, max_iterations):\n",
        "    n = len(b)\n",
        "    x = x0.copy()\n",
        "\n",
        "    for k in range(max_iterations):\n",
        "        x_old = x.copy()\n",
        "\n",
        "        for i in range(n):\n",
        "            sigma = sum(A[i][j] * x[j] for j in range(n) if j != i)\n",
        "            x[i] = (b[i] - sigma) / A[i][i]\n",
        "\n",
        "        # Comprobación de convergencia\n",
        "        if np.linalg.norm(x - x_old, ord=np.inf) < tol:\n",
        "            print(f'Convergencia alcanzada en {k+1} iteraciones.')\n",
        "            return x\n",
        "\n",
        "    print('Número máximo de iteraciones alcanzado sin convergencia.')\n",
        "    return x\n",
        "# Ejemplo de uso\n",
        "A = np.array([[4,1,1,0,1],\n",
        "              [-1,-3,1,1,0],\n",
        "              [2,1,5,-1,-1],\n",
        "              [-1,-1,-1,4,0],\n",
        "              [0,2,-1,1,4]], dtype=float)\n",
        "\n",
        "b = np.array([6,6,6,6,6], dtype=float)\n",
        "x0 = np.zeros(len(b))  # Vector inicial\n",
        "tol = 1e-3  # Tolerancia\n",
        "max_iterations = 100  # Número máximo de iteraciones\n",
        "\n",
        "sol = gauss_seidel(A, b, x0, tol, max_iterations)\n",
        "print('Solución:', sol)"
      ],
      "metadata": {
        "id": "gleQBeR444mQ",
        "outputId": "27e8672f-766e-4f87-a8b8-0bedf4cc8bbe",
        "colab": {
          "base_uri": "https://localhost:8080/"
        }
      },
      "execution_count": null,
      "outputs": [
        {
          "output_type": "stream",
          "name": "stdout",
          "text": [
            "Convergencia alcanzada en 7 iteraciones.\n",
            "Solución: [ 0.78668253 -1.00271872  1.86628339  1.9125618   1.98978976]\n"
          ]
        }
      ]
    },
    {
      "cell_type": "code",
      "source": [
        "A = np.array([\n",
        "    [4, -1, 0, 0, -1, 0, 0, 0, 0, 0, 0, 0],\n",
        "    [-1, 4, -1, 0, 0, 0, 0, 0, 0, 0, 0, 0],\n",
        "    [0, -1, 4, -1, 0, 0, 0, 0, 0, 0, 0, 0],\n",
        "    [0, 0, -1, 4, 0, -1, 0, 0, 0, 0, 0, 0],\n",
        "    [-1, 0, 0, 0, 4, 0, 0, 0, 0, 0, 0, 0],\n",
        "    [0, 0, 0, -1, 0, 4, -1, 0, 0, 0, 0, 0],\n",
        "    [0, 0, 0, 0, 0, -1, 4, 0, -1, 0, 0, 0],\n",
        "    [0, 0, 0, 0, 0, 0, 0, 4, 0, -1, 0, 0],\n",
        "    [0, 0, 0, 0, 0, 0, 0, 0, 4, -1, 0, 0],\n",
        "    [0, 0, 0, 0, 0, 0, 0, 0, -1, 4, -1, 0],\n",
        "    [0, 0, 0, 0, 0, 0, 0, 0, 0, -1, 4, -1],\n",
        "    [0, 0, 0, 0, 0, 0, 0, 0, 0, 0, -1, 4]], dtype=float)\n",
        "\n",
        "b = np.array([220, 110, 110, 110, 220, 110, 110, 110, 220, 110, 110, 220], dtype=float)\n",
        "x0 = np.zeros(len(b))  # Vector inicial\n",
        "tol = 1e-3  # Tolerancia\n",
        "max_iterations = 100  # Número máximo de iteraciones\n",
        "\n",
        "sol = gauss_seidel(A, b, x0, tol, max_iterations)\n",
        "print('Solución:', sol)"
      ],
      "metadata": {
        "id": "KXeG9rqk82-B",
        "outputId": "af15fa92-8e33-4a0f-b90c-8fb4320a8116",
        "colab": {
          "base_uri": "https://localhost:8080/"
        }
      },
      "execution_count": null,
      "outputs": [
        {
          "output_type": "stream",
          "name": "stdout",
          "text": [
            "Convergencia alcanzada en 11 iteraciones.\n",
            "Solución: [90.54473619 64.54330682 57.62877937 55.97197263 77.63618405 56.25918541\n",
            " 59.06479491 42.49999906 69.99999906 59.99999938 59.99999975 69.99999994]\n"
          ]
        }
      ]
    }
  ]
}